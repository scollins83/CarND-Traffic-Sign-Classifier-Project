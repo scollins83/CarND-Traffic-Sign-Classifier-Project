{
 "cells": [
  {
   "cell_type": "markdown",
   "metadata": {},
   "source": [
    "# Self-Driving Car Engineer Nanodegree\n",
    "\n",
    "## Deep Learning\n",
    "\n",
    "## Project: Build a Traffic Sign Recognition Classifier\n",
    "\n",
    "In this notebook, a template is provided for you to implement your functionality in stages, which is required to successfully complete this project. If additional code is required that cannot be included in the notebook, be sure that the Python code is successfully imported and included in your submission if necessary. \n",
    "\n",
    "> **Note**: Once you have completed all of the code implementations, you need to finalize your work by exporting the iPython Notebook as an HTML document. Before exporting the notebook to html, all of the code cells need to have been run so that reviewers can see the final implementation and output. You can then export the notebook by using the menu above and navigating to  \\n\",\n",
    "    \"**File -> Download as -> HTML (.html)**. Include the finished document along with this notebook as your submission. \n",
    "\n",
    "In addition to implementing code, there is a writeup to complete. The writeup should be completed in a separate file, which can be either a markdown file or a pdf document. There is a [write up template](https://github.com/udacity/CarND-Traffic-Sign-Classifier-Project/blob/master/writeup_template.md) that can be used to guide the writing process. Completing the code template and writeup template will cover all of the [rubric points](https://review.udacity.com/#!/rubrics/481/view) for this project.\n",
    "\n",
    "The [rubric](https://review.udacity.com/#!/rubrics/481/view) contains \"Stand Out Suggestions\" for enhancing the project beyond the minimum requirements. The stand out suggestions are optional. If you decide to pursue the \"stand out suggestions\", you can include the code in this Ipython notebook and also discuss the results in the writeup file.\n",
    "\n",
    "\n",
    ">**Note:** Code and Markdown cells can be executed using the **Shift + Enter** keyboard shortcut. In addition, Markdown cells can be edited by typically double-clicking the cell to enter edit mode."
   ]
  },
  {
   "cell_type": "markdown",
   "metadata": {},
   "source": [
    "---\n",
    "## Step 0: Load The Data"
   ]
  },
  {
   "cell_type": "code",
   "execution_count": 1,
   "metadata": {
    "collapsed": true
   },
   "outputs": [],
   "source": [
    "# Load pickled data\n",
    "import pickle\n",
    "\n",
    "# TODO: Fill this in based on where you saved the training and testing data\n",
    "\n",
    "training_file = '/traffic-signs-data/train.p'\n",
    "validation_file= '/traffic-signs-data/valid.p'\n",
    "testing_file = '/traffic-signs-data/test.p'\n",
    "\n",
    "with open(training_file, mode='rb') as f:\n",
    "    train = pickle.load(f)\n",
    "with open(validation_file, mode='rb') as f:\n",
    "    valid = pickle.load(f)\n",
    "with open(testing_file, mode='rb') as f:\n",
    "    test = pickle.load(f)\n",
    "    \n",
    "X_train, y_train = train['features'], train['labels']\n",
    "X_valid, y_valid = valid['features'], valid['labels']\n",
    "X_test, y_test = test['features'], test['labels']"
   ]
  },
  {
   "cell_type": "markdown",
   "metadata": {},
   "source": [
    "---\n",
    "\n",
    "## Step 1: Dataset Summary & Exploration\n",
    "\n",
    "The pickled data is a dictionary with 4 key/value pairs:\n",
    "\n",
    "- `'features'` is a 4D array containing raw pixel data of the traffic sign images, (num examples, width, height, channels).\n",
    "- `'labels'` is a 1D array containing the label/class id of the traffic sign. The file `signnames.csv` contains id -> name mappings for each id.\n",
    "- `'sizes'` is a list containing tuples, (width, height) representing the original width and height the image.\n",
    "- `'coords'` is a list containing tuples, (x1, y1, x2, y2) representing coordinates of a bounding box around the sign in the image. **THESE COORDINATES ASSUME THE ORIGINAL IMAGE. THE PICKLED DATA CONTAINS RESIZED VERSIONS (32 by 32) OF THESE IMAGES**\n",
    "\n",
    "Complete the basic data summary below. Use python, numpy and/or pandas methods to calculate the data summary rather than hard coding the results. For example, the [pandas shape method](http://pandas.pydata.org/pandas-docs/stable/generated/pandas.DataFrame.shape.html) might be useful for calculating some of the summary results. "
   ]
  },
  {
   "cell_type": "markdown",
   "metadata": {},
   "source": [
    "### Provide a Basic Summary of the Data Set Using Python, Numpy and/or Pandas"
   ]
  },
  {
   "cell_type": "code",
   "execution_count": 2,
   "metadata": {},
   "outputs": [
    {
     "name": "stdout",
     "output_type": "stream",
     "text": [
      "Number of training examples = 34799\n",
      "Number of validation examples = 4410\n",
      "Number of testing examples = 12630\n",
      "Image data shape = (32, 32, 3)\n",
      "Number of classes = 43\n"
     ]
    }
   ],
   "source": [
    "### Replace each question mark with the appropriate value. \n",
    "### Use python, pandas or numpy methods rather than hard coding the results\n",
    "\n",
    "# TODO: Number of training examples\n",
    "n_train = y_train.shape[0]\n",
    "\n",
    "# TODO: Number of validation examples\n",
    "n_validation = y_valid.shape[0]\n",
    "\n",
    "# TODO: Number of testing examples.\n",
    "n_test = y_test.shape[0]\n",
    "\n",
    "# TODO: What's the shape of an traffic sign image?\n",
    "image_shape = X_train.shape[1:]\n",
    "\n",
    "# TODO: How many unique classes/labels there are in the dataset.\n",
    "y_set = set(y_train)\n",
    "y_set = y_set.union(y_valid)\n",
    "y_set = y_set.union(y_test)\n",
    "n_classes = len(y_set)\n",
    "\n",
    "print(\"Number of training examples =\", n_train)\n",
    "print(\"Number of validation examples =\", n_validation)\n",
    "print(\"Number of testing examples =\", n_test)\n",
    "print(\"Image data shape =\", image_shape)\n",
    "print(\"Number of classes =\", n_classes)"
   ]
  },
  {
   "cell_type": "markdown",
   "metadata": {},
   "source": [
    "### Include an exploratory visualization of the dataset"
   ]
  },
  {
   "cell_type": "markdown",
   "metadata": {},
   "source": [
    "Visualize the German Traffic Signs Dataset using the pickled file(s). This is open ended, suggestions include: plotting traffic sign images, plotting the count of each sign, etc. \n",
    "\n",
    "The [Matplotlib](http://matplotlib.org/) [examples](http://matplotlib.org/examples/index.html) and [gallery](http://matplotlib.org/gallery.html) pages are a great resource for doing visualizations in Python.\n",
    "\n",
    "**NOTE:** It's recommended you start with something simple first. If you wish to do more, come back to it after you've completed the rest of the sections. It can be interesting to look at the distribution of classes in the training, validation and test set. Is the distribution the same? Are there more examples of some classes than others?"
   ]
  },
  {
   "cell_type": "code",
   "execution_count": 3,
   "metadata": {
    "collapsed": true
   },
   "outputs": [],
   "source": [
    "### Data exploration visualization code goes here.\n",
    "### Feel free to use as many code cells as needed.\n",
    "import matplotlib.pyplot as plt\n",
    "import random\n",
    "# Visualizations will be shown in the notebook.\n",
    "%matplotlib inline"
   ]
  },
  {
   "cell_type": "code",
   "execution_count": 4,
   "metadata": {
    "collapsed": true
   },
   "outputs": [],
   "source": [
    "#index = random.randint(0, len(X_train))"
   ]
  },
  {
   "cell_type": "code",
   "execution_count": 7,
   "metadata": {},
   "outputs": [],
   "source": [
    "index = 2842"
   ]
  },
  {
   "cell_type": "code",
   "execution_count": 8,
   "metadata": {},
   "outputs": [
    {
     "name": "stdout",
     "output_type": "stream",
     "text": [
      "1\n"
     ]
    },
    {
     "data": {
      "image/png": "[encoded data removed]",
      "text/plain": [
       "<matplotlib.figure.Figure at 0x7f30b65c5ac8>"
      ]
     },
     "metadata": {},
     "output_type": "display_data"
    }
   ],
   "source": [
    "image = X_train[index].squeeze()\n",
    "\n",
    "plt.figure(figsize=(1.5,1.5))\n",
    "plt.imshow(image)\n",
    "print(y_train[index])"
   ]
  },
  {
   "cell_type": "code",
   "execution_count": 9,
   "metadata": {
    "collapsed": true
   },
   "outputs": [],
   "source": [
    "# Start here. "
   ]
  },
  {
   "cell_type": "markdown",
   "metadata": {},
   "source": [
    "----\n",
    "\n",
    "## Step 2: Design and Test a Model Architecture\n",
    "\n",
    "Design and implement a deep learning model that learns to recognize traffic signs. Train and test your model on the [German Traffic Sign Dataset](http://benchmark.ini.rub.de/?section=gtsrb&subsection=dataset).\n",
    "\n",
    "The LeNet-5 implementation shown in the [classroom](https://classroom.udacity.com/nanodegrees/nd013/parts/fbf77062-5703-404e-b60c-95b78b2f3f9e/modules/6df7ae49-c61c-4bb2-a23e-6527e69209ec/lessons/601ae704-1035-4287-8b11-e2c2716217ad/concepts/d4aca031-508f-4e0b-b493-e7b706120f81) at the end of the CNN lesson is a solid starting point. You'll have to change the number of classes and possibly the preprocessing, but aside from that it's plug and play! \n",
    "\n",
    "With the LeNet-5 solution from the lecture, you should expect a validation set accuracy of about 0.89. To meet specifications, the validation set accuracy will need to be at least 0.93. It is possible to get an even higher accuracy, but 0.93 is the minimum for a successful project submission. \n",
    "\n",
    "There are various aspects to consider when thinking about this problem:\n",
    "\n",
    "- Neural network architecture (is the network over or underfitting?)\n",
    "- Play around preprocessing techniques (normalization, rgb to grayscale, etc)\n",
    "- Number of examples per label (some have more than others).\n",
    "- Generate fake data.\n",
    "\n",
    "Here is an example of a [published baseline model on this problem](http://yann.lecun.com/exdb/publis/pdf/sermanet-ijcnn-11.pdf). It's not required to be familiar with the approach used in the paper but, it's good practice to try to read papers like these."
   ]
  },
  {
   "cell_type": "markdown",
   "metadata": {},
   "source": [
    "### Pre-process the Data Set (normalization, grayscale, etc.)"
   ]
  },
  {
   "cell_type": "markdown",
   "metadata": {},
   "source": [
    "Minimally, the image data should be normalized so that the data has mean zero and equal variance. For image data, `(pixel - 128)/ 128` is a quick way to approximately normalize the data and can be used in this project. \n",
    "\n",
    "Other pre-processing steps are optional. You can try different techniques to see if it improves performance. \n",
    "\n",
    "Use the code cell (or multiple code cells, if necessary) to implement the first step of your project."
   ]
  },
  {
   "cell_type": "code",
   "execution_count": 10,
   "metadata": {
    "collapsed": true
   },
   "outputs": [],
   "source": [
    "### Preprocess the data here. It is required to normalize the data. Other preprocessing steps could include \n",
    "### converting to grayscale, etc.\n",
    "### Feel free to use as many code cells as needed."
   ]
  },
  {
   "cell_type": "code",
   "execution_count": 11,
   "metadata": {
    "collapsed": true
   },
   "outputs": [],
   "source": [
    "import tensorflow as tf\n",
    "import cv2"
   ]
  },
  {
   "cell_type": "code",
   "execution_count": 12,
   "metadata": {
    "collapsed": true
   },
   "outputs": [],
   "source": [
    "def grayscale(img):\n",
    "    return cv2.cvtColor(img, cv2.COLOR_RGB2GRAY)"
   ]
  },
  {
   "cell_type": "code",
   "execution_count": 13,
   "metadata": {
    "collapsed": true
   },
   "outputs": [],
   "source": [
    "X_train = [grayscale(img) for img in X_train]\n",
    "X_valid = [grayscale(img) for img in X_valid]\n",
    "X_test = [grayscale(img) for img in X_test]"
   ]
  },
  {
   "cell_type": "code",
   "execution_count": 14,
   "metadata": {},
   "outputs": [
    {
     "name": "stdout",
     "output_type": "stream",
     "text": [
      "1\n"
     ]
    },
    {
     "data": {
      "image/png": "[encoded data removed]",
      "text/plain": [
       "<matplotlib.figure.Figure at 0x7f30ac057d68>"
      ]
     },
     "metadata": {},
     "output_type": "display_data"
    }
   ],
   "source": [
    "image = X_train[2842].squeeze()\n",
    "\n",
    "plt.figure(figsize=(1.5,1.5))\n",
    "plt.imshow(image)\n",
    "print(y_train[2842])"
   ]
  },
  {
   "cell_type": "code",
   "execution_count": 15,
   "metadata": {
    "collapsed": true
   },
   "outputs": [],
   "source": [
    "def normalize_image(image, norm_value=128):\n",
    "    return ((image - 128.)/128.)"
   ]
  },
  {
   "cell_type": "code",
   "execution_count": 16,
   "metadata": {
    "collapsed": true
   },
   "outputs": [],
   "source": [
    "X_train = [normalize_image(img) for img in X_train]\n",
    "X_valid = [normalize_image(img) for img in X_valid]\n",
    "X_test = [normalize_image(img) for img in X_test]"
   ]
  },
  {
   "cell_type": "code",
   "execution_count": 17,
   "metadata": {
    "scrolled": true
   },
   "outputs": [
    {
     "name": "stdout",
     "output_type": "stream",
     "text": [
      "1\n"
     ]
    },
    {
     "data": {
      "image/png": "[encoded data removed]",
      "text/plain": [
       "<matplotlib.figure.Figure at 0x7f3037dff320>"
      ]
     },
     "metadata": {},
     "output_type": "display_data"
    }
   ],
   "source": [
    "image = X_train[2842].squeeze()\n",
    "\n",
    "plt.figure(figsize=(1.5,1.5))\n",
    "plt.imshow(image)\n",
    "print(y_train[2842])"
   ]
  },
  {
   "cell_type": "code",
   "execution_count": 44,
   "metadata": {},
   "outputs": [],
   "source": [
    "# Reshape grayscale images so they have the right shape for the tensor\n",
    "#image = array(img).reshape(1, 64,64,3)\n",
    "X_train = [img.reshape(32, 32, 1) for img in X_train]\n",
    "X_valid = [img.reshape(32, 32, 1) for img in X_valid]\n",
    "X_test = [img.reshape(32, 32, 1) for img in X_test]"
   ]
  },
  {
   "cell_type": "code",
   "execution_count": 45,
   "metadata": {
    "collapsed": true
   },
   "outputs": [],
   "source": [
    "from sklearn.utils import shuffle\n",
    "X_train, y_train = shuffle(X_train, y_train)"
   ]
  },
  {
   "cell_type": "markdown",
   "metadata": {},
   "source": [
    "### Model Architecture"
   ]
  },
  {
   "cell_type": "code",
   "execution_count": 46,
   "metadata": {
    "collapsed": true
   },
   "outputs": [],
   "source": [
    "### Define your architecture here.\n",
    "### Feel free to use as many code cells as needed."
   ]
  },
  {
   "cell_type": "code",
   "execution_count": 47,
   "metadata": {
    "collapsed": true
   },
   "outputs": [],
   "source": [
    "from tensorflow.contrib.layers import flatten\n",
    "\n",
    "def LeNet(x):    \n",
    "    # Arguments used for tf.truncated_normal, randomly defines variables for the weights and biases for each layer\n",
    "    mu = 0\n",
    "    sigma = 0.1\n",
    "    \n",
    "    # SOLUTION: Layer 1: Convolutional. Input = 32x32x3. Output = 28x28x6.\n",
    "    conv1_W = tf.Variable(tf.truncated_normal(shape=(5, 5, 1, 6), mean = mu, stddev = sigma))\n",
    "    \n",
    "    conv1_b = tf.Variable(tf.zeros(6))\n",
    "    conv1   = tf.nn.conv2d(x, conv1_W, strides=[1, 1, 1, 1], padding='VALID') + conv1_b\n",
    "\n",
    "    # SOLUTION: Activation.\n",
    "    conv1 = tf.nn.relu(conv1)\n",
    "\n",
    "    # SOLUTION: Pooling. Input = 28x28x6. Output = 14x14x6.\n",
    "    conv1 = tf.nn.max_pool(conv1, ksize=[1, 2, 2, 1], strides=[1, 2, 2, 1], padding='VALID')\n",
    "\n",
    "    # SOLUTION: Layer 2: Convolutional. Output = 10x10x16.\n",
    "    conv2_W = tf.Variable(tf.truncated_normal(shape=(5, 5, 6, 16), mean = mu, stddev = sigma))\n",
    "    conv2_b = tf.Variable(tf.zeros(16))\n",
    "    conv2   = tf.nn.conv2d(conv1, conv2_W, strides=[1, 1, 1, 1], padding='VALID') + conv2_b\n",
    "    \n",
    "    # SOLUTION: Activation.\n",
    "    conv2 = tf.nn.relu(conv2)\n",
    "\n",
    "    # SOLUTION: Pooling. Input = 10x10x16. Output = 5x5x16.\n",
    "    conv2 = tf.nn.max_pool(conv2, ksize=[1, 2, 2, 1], strides=[1, 2, 2, 1], padding='VALID')\n",
    "\n",
    "    # SOLUTION: Flatten. Input = 5x5x16. Output = 400.\n",
    "    fc0   = flatten(conv2)\n",
    "    \n",
    "    # SOLUTION: Layer 3: Fully Connected. Input = 400. Output = 120.\n",
    "    fc1_W = tf.Variable(tf.truncated_normal(shape=(400, 120), mean = mu, stddev = sigma))\n",
    "    fc1_b = tf.Variable(tf.zeros(120))\n",
    "    fc1   = tf.matmul(fc0, fc1_W) + fc1_b\n",
    "    \n",
    "    # SOLUTION: Activation.\n",
    "    fc1    = tf.nn.relu(fc1)\n",
    "\n",
    "    # SOLUTION: Layer 4: Fully Connected. Input = 120. Output = 84.\n",
    "    fc2_W  = tf.Variable(tf.truncated_normal(shape=(120, 84), mean = mu, stddev = sigma))\n",
    "    fc2_b  = tf.Variable(tf.zeros(84))\n",
    "    fc2    = tf.matmul(fc1, fc2_W) + fc2_b\n",
    "    \n",
    "    # SOLUTION: Activation.\n",
    "    fc2    = tf.nn.relu(fc2)\n",
    "\n",
    "    # SOLUTION: Layer 5: Fully Connected. Input = 84. Output = 10.\n",
    "    fc3_W  = tf.Variable(tf.truncated_normal(shape=(84, n_classes), mean = mu, stddev = sigma))\n",
    "    fc3_b  = tf.Variable(tf.zeros(n_classes))\n",
    "    logits = tf.matmul(fc2, fc3_W) + fc3_b\n",
    "    \n",
    "    return logits"
   ]
  },
  {
   "cell_type": "code",
   "execution_count": 48,
   "metadata": {},
   "outputs": [
    {
     "data": {
      "text/plain": [
       "43"
      ]
     },
     "execution_count": 48,
     "metadata": {},
     "output_type": "execute_result"
    }
   ],
   "source": [
    "n_classes"
   ]
  },
  {
   "cell_type": "code",
   "execution_count": 49,
   "metadata": {
    "collapsed": true
   },
   "outputs": [],
   "source": [
    "x = tf.placeholder(tf.float32, (None, 32, 32, 1))\n",
    "y = tf.placeholder(tf.int32, (None))\n",
    "one_hot_y = tf.one_hot(y, n_classes)"
   ]
  },
  {
   "cell_type": "markdown",
   "metadata": {},
   "source": [
    "### Train, Validate and Test the Model"
   ]
  },
  {
   "cell_type": "markdown",
   "metadata": {},
   "source": [
    "A validation set can be used to assess how well the model is performing. A low accuracy on the training and validation\n",
    "sets imply underfitting. A high accuracy on the training set but low accuracy on the validation set implies overfitting."
   ]
  },
  {
   "cell_type": "code",
   "execution_count": 50,
   "metadata": {
    "collapsed": true
   },
   "outputs": [],
   "source": [
    "### Train your model here.\n",
    "### Calculate and report the accuracy on the training and validation set.\n",
    "### Once a final model architecture is selected, \n",
    "### the accuracy on the test set should be calculated and reported as well.\n",
    "### Feel free to use as many code cells as needed."
   ]
  },
  {
   "cell_type": "code",
   "execution_count": 51,
   "metadata": {
    "collapsed": true
   },
   "outputs": [],
   "source": [
    "EPOCHS=40\n",
    "BATCH_SIZE=128\n",
    "samples = []\n",
    "losses = []"
   ]
  },
  {
   "cell_type": "code",
   "execution_count": 52,
   "metadata": {
    "collapsed": true
   },
   "outputs": [],
   "source": [
    "rate = 0.001\n",
    "\n",
    "logits = LeNet(x)\n",
    "cross_entropy = tf.nn.softmax_cross_entropy_with_logits(labels=one_hot_y, logits=logits)\n",
    "loss_operation = tf.reduce_mean(cross_entropy)\n",
    "optimizer = tf.train.AdamOptimizer(learning_rate = rate)\n",
    "training_operation = optimizer.minimize(loss_operation)"
   ]
  },
  {
   "cell_type": "code",
   "execution_count": 53,
   "metadata": {
    "collapsed": true
   },
   "outputs": [],
   "source": [
    "correct_prediction = tf.equal(tf.argmax(logits, 1), tf.argmax(one_hot_y, 1))\n",
    "accuracy_operation = tf.reduce_mean(tf.cast(correct_prediction, tf.float32))"
   ]
  },
  {
   "cell_type": "code",
   "execution_count": 54,
   "metadata": {
    "collapsed": true
   },
   "outputs": [],
   "source": [
    "saver = tf.train.Saver()\n",
    "\n",
    "def evaluate(X_data, y_data):\n",
    "    num_examples = len(X_data)\n",
    "    total_accuracy = 0\n",
    "    sess = tf.get_default_session()\n",
    "    for offset in range(0, num_examples, BATCH_SIZE):\n",
    "        batch_x, batch_y = X_data[offset:offset+BATCH_SIZE], y_data[offset:offset+BATCH_SIZE]\n",
    "        accuracy = sess.run(accuracy_operation, feed_dict={x: batch_x, y: batch_y})\n",
    "        total_accuracy += (accuracy * len(batch_x))\n",
    "    return total_accuracy / num_examples"
   ]
  },
  {
   "cell_type": "code",
   "execution_count": 56,
   "metadata": {
    "scrolled": false
   },
   "outputs": [
    {
     "name": "stdout",
     "output_type": "stream",
     "text": [
      "Training...\n",
      "\n",
      "EPOCH 1 ...\n",
      "Validation Accuracy = 0.746\n",
      "\n",
      "EPOCH 2 ...\n",
      "Validation Accuracy = 0.826\n",
      "\n",
      "EPOCH 3 ...\n",
      "Validation Accuracy = 0.861\n",
      "\n",
      "EPOCH 4 ...\n",
      "Validation Accuracy = 0.889\n",
      "\n",
      "EPOCH 5 ...\n",
      "Validation Accuracy = 0.891\n",
      "\n",
      "EPOCH 6 ...\n",
      "Validation Accuracy = 0.898\n",
      "\n",
      "EPOCH 7 ...\n",
      "Validation Accuracy = 0.906\n",
      "\n",
      "EPOCH 8 ...\n",
      "Validation Accuracy = 0.919\n",
      "\n",
      "EPOCH 9 ...\n",
      "Validation Accuracy = 0.910\n",
      "\n",
      "EPOCH 10 ...\n",
      "Validation Accuracy = 0.910\n",
      "\n",
      "EPOCH 11 ...\n",
      "Validation Accuracy = 0.918\n",
      "\n",
      "EPOCH 12 ...\n",
      "Validation Accuracy = 0.920\n",
      "\n",
      "EPOCH 13 ...\n",
      "Validation Accuracy = 0.915\n",
      "\n",
      "EPOCH 14 ...\n",
      "Validation Accuracy = 0.914\n",
      "\n",
      "EPOCH 15 ...\n",
      "Validation Accuracy = 0.926\n",
      "\n",
      "EPOCH 16 ...\n",
      "Validation Accuracy = 0.910\n",
      "\n",
      "EPOCH 17 ...\n",
      "Validation Accuracy = 0.920\n",
      "\n",
      "EPOCH 18 ...\n",
      "Validation Accuracy = 0.912\n",
      "\n",
      "EPOCH 19 ...\n",
      "Validation Accuracy = 0.937\n",
      "\n",
      "EPOCH 20 ...\n",
      "Validation Accuracy = 0.931\n",
      "\n",
      "EPOCH 21 ...\n",
      "Validation Accuracy = 0.923\n",
      "\n",
      "EPOCH 22 ...\n",
      "Validation Accuracy = 0.920\n",
      "\n",
      "EPOCH 23 ...\n",
      "Validation Accuracy = 0.939\n",
      "\n",
      "EPOCH 24 ...\n",
      "Validation Accuracy = 0.930\n",
      "\n",
      "EPOCH 25 ...\n",
      "Validation Accuracy = 0.934\n",
      "\n",
      "EPOCH 26 ...\n",
      "Validation Accuracy = 0.938\n",
      "\n",
      "EPOCH 27 ...\n",
      "Validation Accuracy = 0.927\n",
      "\n",
      "EPOCH 28 ...\n",
      "Validation Accuracy = 0.926\n",
      "\n",
      "EPOCH 29 ...\n",
      "Validation Accuracy = 0.933\n",
      "\n",
      "EPOCH 30 ...\n",
      "Validation Accuracy = 0.931\n",
      "\n",
      "EPOCH 31 ...\n",
      "Validation Accuracy = 0.930\n",
      "\n",
      "EPOCH 32 ...\n",
      "Validation Accuracy = 0.934\n",
      "\n",
      "EPOCH 33 ...\n",
      "Validation Accuracy = 0.933\n",
      "\n",
      "EPOCH 34 ...\n",
      "Validation Accuracy = 0.934\n",
      "\n",
      "EPOCH 35 ...\n",
      "Validation Accuracy = 0.945\n",
      "\n",
      "EPOCH 36 ...\n",
      "Validation Accuracy = 0.950\n",
      "\n",
      "EPOCH 37 ...\n",
      "Validation Accuracy = 0.922\n",
      "\n",
      "EPOCH 38 ...\n",
      "Validation Accuracy = 0.933\n",
      "\n",
      "EPOCH 39 ...\n",
      "Validation Accuracy = 0.943\n",
      "\n",
      "EPOCH 40 ...\n",
      "Validation Accuracy = 0.930\n",
      "\n",
      "Model saved\n"
     ]
    }
   ],
   "source": [
    "with tf.Session() as sess:\n",
    "    sess.run(tf.global_variables_initializer())\n",
    "    num_examples = len(X_train)\n",
    "    \n",
    "    print(\"Training...\")\n",
    "    print()\n",
    "    for i in range(EPOCHS):\n",
    "        X_train, y_train = shuffle(X_train, y_train)\n",
    "        for offset in range(0, num_examples, BATCH_SIZE):\n",
    "            end = offset + BATCH_SIZE\n",
    "            batch_x, batch_y = X_train[offset:end], y_train[offset:end]\n",
    "            sess.run(training_operation, feed_dict={x: batch_x, y: batch_y})\n",
    "            \n",
    "        validation_accuracy = evaluate(X_valid, y_valid)\n",
    "        print(\"EPOCH {} ...\".format(i+1))\n",
    "        print(\"Validation Accuracy = {:.3f}\".format(validation_accuracy))\n",
    "        print()\n",
    "        \n",
    "        if validation_accuracy >= 93.0:\n",
    "            saver.save(sess, ('./lenet_e' + str(i) + '_b' + str(BATCH_SIZE) + '_l' + (str(rate)).replace('.','_')))\n",
    "\n",
    "    saver.save(sess, ('./lenet_e' + str(EPOCHS) + '_b' + str(BATCH_SIZE) + '_l' + (str(rate)).replace('.','_')))\n",
    "    print(\"Model saved\")"
   ]
  },
  {
   "cell_type": "markdown",
   "metadata": {},
   "source": [
    "---\n",
    "\n",
    "## Step 3: Test a Model on New Images\n",
    "\n",
    "To give yourself more insight into how your model is working, download at least five pictures of German traffic signs from the web and use your model to predict the traffic sign type.\n",
    "\n",
    "You may find `signnames.csv` useful as it contains mappings from the class id (integer) to the actual sign name."
   ]
  },
  {
   "cell_type": "markdown",
   "metadata": {},
   "source": [
    "### Load and Output the Images"
   ]
  },
  {
   "cell_type": "code",
   "execution_count": 57,
   "metadata": {
    "collapsed": true
   },
   "outputs": [],
   "source": [
    "### Load the images and plot them here.\n",
    "### Feel free to use as many code cells as needed."
   ]
  },
  {
   "cell_type": "code",
   "execution_count": 58,
   "metadata": {
    "collapsed": true
   },
   "outputs": [],
   "source": [
    "from PIL import Image\n",
    "import numpy as np\n",
    "import pandas as pd"
   ]
  },
  {
   "cell_type": "code",
   "execution_count": 59,
   "metadata": {
    "collapsed": true
   },
   "outputs": [],
   "source": [
    "testing_images = []"
   ]
  },
  {
   "cell_type": "code",
   "execution_count": 60,
   "metadata": {
    "collapsed": true
   },
   "outputs": [],
   "source": [
    "import glob"
   ]
  },
  {
   "cell_type": "code",
   "execution_count": 61,
   "metadata": {
    "collapsed": true
   },
   "outputs": [],
   "source": [
    "img_paths = glob.glob('fifteen_image_test_set/*.ppm')"
   ]
  },
  {
   "cell_type": "code",
   "execution_count": 62,
   "metadata": {},
   "outputs": [
    {
     "data": {
      "text/plain": [
       "['fifteen_image_test_set/00414.ppm',\n",
       " 'fifteen_image_test_set/00291.ppm',\n",
       " 'fifteen_image_test_set/00006.ppm',\n",
       " 'fifteen_image_test_set/00014.ppm',\n",
       " 'fifteen_image_test_set/00081.ppm',\n",
       " 'fifteen_image_test_set/00071.ppm',\n",
       " 'fifteen_image_test_set/00523.ppm',\n",
       " 'fifteen_image_test_set/00001.ppm',\n",
       " 'fifteen_image_test_set/00056.ppm',\n",
       " 'fifteen_image_test_set/00035.ppm',\n",
       " 'fifteen_image_test_set/00137.ppm',\n",
       " 'fifteen_image_test_set/00093.ppm',\n",
       " 'fifteen_image_test_set/00212.ppm',\n",
       " 'fifteen_image_test_set/00062.ppm',\n",
       " 'fifteen_image_test_set/00303.ppm']"
      ]
     },
     "execution_count": 62,
     "metadata": {},
     "output_type": "execute_result"
    }
   ],
   "source": [
    "img_paths"
   ]
  },
  {
   "cell_type": "code",
   "execution_count": 63,
   "metadata": {
    "collapsed": true
   },
   "outputs": [],
   "source": [
    "for path in img_paths:\n",
    "    image = Image.open(path)\n",
    "    image = image.resize((32,32))\n",
    "    testing_images.append(np.array(image))"
   ]
  },
  {
   "cell_type": "code",
   "execution_count": 64,
   "metadata": {
    "collapsed": true
   },
   "outputs": [],
   "source": [
    "def view_images(image_list):\n",
    "    fig, axes = plt.subplots(figsize=(7,7), nrows=5, ncols=3, sharey=True, sharex=True)\n",
    "    for ax, img in zip(axes.flatten(), image_list):\n",
    "        ax.xaxis.set_visible(False)\n",
    "        ax.yaxis.set_visible(False)\n",
    "        im = ax.imshow(img)\n",
    "    \n",
    "    return fig, axes"
   ]
  },
  {
   "cell_type": "code",
   "execution_count": 65,
   "metadata": {},
   "outputs": [
    {
     "data": {
      "text/plain": [
       "(<matplotlib.figure.Figure at 0x7f302478c3c8>,\n",
       " array([[<matplotlib.axes._subplots.AxesSubplot object at 0x7f30249bdd30>,\n",
       "         <matplotlib.axes._subplots.AxesSubplot object at 0x7f302474c0b8>,\n",
       "         <matplotlib.axes._subplots.AxesSubplot object at 0x7f302491a400>],\n",
       "        [<matplotlib.axes._subplots.AxesSubplot object at 0x7f30248e1080>,\n",
       "         <matplotlib.axes._subplots.AxesSubplot object at 0x7f3024836518>,\n",
       "         <matplotlib.axes._subplots.AxesSubplot object at 0x7f3024802e48>],\n",
       "        [<matplotlib.axes._subplots.AxesSubplot object at 0x7f30247aed30>,\n",
       "         <matplotlib.axes._subplots.AxesSubplot object at 0x7f302471e5f8>,\n",
       "         <matplotlib.axes._subplots.AxesSubplot object at 0x7f30246ac940>],\n",
       "        [<matplotlib.axes._subplots.AxesSubplot object at 0x7f3024639208>,\n",
       "         <matplotlib.axes._subplots.AxesSubplot object at 0x7f3024602080>,\n",
       "         <matplotlib.axes._subplots.AxesSubplot object at 0x7f30245d1dd8>],\n",
       "        [<matplotlib.axes._subplots.AxesSubplot object at 0x7f302459db00>,\n",
       "         <matplotlib.axes._subplots.AxesSubplot object at 0x7f30244fc198>,\n",
       "         <matplotlib.axes._subplots.AxesSubplot object at 0x7f30244bcb70>]], dtype=object))"
      ]
     },
     "execution_count": 65,
     "metadata": {},
     "output_type": "execute_result"
    },
    {
     "data": {
      "image/png": "[encoded data removed]",
      "text/plain": [
       "<matplotlib.figure.Figure at 0x7f302478c3c8>"
      ]
     },
     "metadata": {},
     "output_type": "display_data"
    }
   ],
   "source": [
    "view_images(testing_images)"
   ]
  },
  {
   "cell_type": "code",
   "execution_count": 68,
   "metadata": {},
   "outputs": [],
   "source": [
    "testing_image_labels = pd.read_csv('fifteen_image_test_set/fifteen_img_test_labels.csv', sep=';')"
   ]
  },
  {
   "cell_type": "code",
   "execution_count": 69,
   "metadata": {
    "collapsed": true
   },
   "outputs": [],
   "source": [
    "til = list(testing_image_labels['ClassId'])"
   ]
  },
  {
   "cell_type": "code",
   "execution_count": 70,
   "metadata": {},
   "outputs": [
    {
     "data": {
      "text/plain": [
       "[1, 18, 4, 17, 5, 4, 25, 33, 14, 40, 25, 31, 14, 29, 14]"
      ]
     },
     "execution_count": 70,
     "metadata": {},
     "output_type": "execute_result"
    }
   ],
   "source": [
    "til"
   ]
  },
  {
   "cell_type": "markdown",
   "metadata": {},
   "source": [
    "### Predict the Sign Type for Each Image"
   ]
  },
  {
   "cell_type": "code",
   "execution_count": 71,
   "metadata": {
    "collapsed": true
   },
   "outputs": [],
   "source": [
    "### Run the predictions here and use the model to output the prediction for each image.\n",
    "### Make sure to pre-process the images with the same pre-processing pipeline used earlier.\n",
    "### Feel free to use as many code cells as needed."
   ]
  },
  {
   "cell_type": "code",
   "execution_count": 89,
   "metadata": {
    "collapsed": true
   },
   "outputs": [],
   "source": [
    "# Preprocess the images\n",
    "gray_testers = [grayscale(img) for img in testing_images]\n",
    "normalized_testers = [normalize_image(img) for img in gray_testers]"
   ]
  },
  {
   "cell_type": "code",
   "execution_count": 90,
   "metadata": {},
   "outputs": [
    {
     "data": {
      "text/plain": [
       "(<matplotlib.figure.Figure at 0x7f3008af39b0>,\n",
       " array([[<matplotlib.axes._subplots.AxesSubplot object at 0x7f3008af7080>,\n",
       "         <matplotlib.axes._subplots.AxesSubplot object at 0x7f3008aa27b8>,\n",
       "         <matplotlib.axes._subplots.AxesSubplot object at 0x7f3008aaf2e8>],\n",
       "        [<matplotlib.axes._subplots.AxesSubplot object at 0x7f30089bc898>,\n",
       "         <matplotlib.axes._subplots.AxesSubplot object at 0x7f3008981710>,\n",
       "         <matplotlib.axes._subplots.AxesSubplot object at 0x7f30089563c8>],\n",
       "        [<matplotlib.axes._subplots.AxesSubplot object at 0x7f300891af28>,\n",
       "         <matplotlib.axes._subplots.AxesSubplot object at 0x7f30088f1940>,\n",
       "         <matplotlib.axes._subplots.AxesSubplot object at 0x7f300883ad68>],\n",
       "        [<matplotlib.axes._subplots.AxesSubplot object at 0x7f3008810e80>,\n",
       "         <matplotlib.axes._subplots.AxesSubplot object at 0x7f30087e1c18>,\n",
       "         <matplotlib.axes._subplots.AxesSubplot object at 0x7f300878ec18>],\n",
       "        [<matplotlib.axes._subplots.AxesSubplot object at 0x7f30086fc3c8>,\n",
       "         <matplotlib.axes._subplots.AxesSubplot object at 0x7f3008709e48>,\n",
       "         <matplotlib.axes._subplots.AxesSubplot object at 0x7f3008693f98>]], dtype=object))"
      ]
     },
     "execution_count": 90,
     "metadata": {},
     "output_type": "execute_result"
    },
    {
     "data": {
      "image/png": "[encoded data removed]",
      "text/plain": [
       "<matplotlib.figure.Figure at 0x7f3008af39b0>"
      ]
     },
     "metadata": {},
     "output_type": "display_data"
    }
   ],
   "source": [
    "view_images(normalized_testers)"
   ]
  },
  {
   "cell_type": "code",
   "execution_count": 96,
   "metadata": {
    "collapsed": true
   },
   "outputs": [],
   "source": [
    "# Reshape\n",
    "normalized_testers = [img.reshape(32, 32, 1) for img in normalized_testers]"
   ]
  },
  {
   "cell_type": "markdown",
   "metadata": {},
   "source": [
    "### Analyze Performance"
   ]
  },
  {
   "cell_type": "code",
   "execution_count": 97,
   "metadata": {
    "collapsed": true
   },
   "outputs": [],
   "source": [
    "### Calculate the accuracy for these 5 new images. \n",
    "### For example, if the model predicted 1 out of 5 signs correctly, it's 20% accurate on these new images."
   ]
  },
  {
   "cell_type": "code",
   "execution_count": 98,
   "metadata": {
    "collapsed": true
   },
   "outputs": [],
   "source": [
    "correct_prediction = tf.equal(tf.argmax(logits, 1), tf.argmax(one_hot_y, 1))\n",
    "accuracy_operation = tf.reduce_mean(tf.cast(correct_prediction, tf.float32))\n",
    "saver = tf.train.Saver()\n",
    "\n",
    "def evaluate(X_data, y_data):\n",
    "    num_examples = len(X_data)\n",
    "    total_accuracy = 0\n",
    "    sess = tf.get_default_session()\n",
    "    for offset in range(0, num_examples, BATCH_SIZE):\n",
    "        batch_x, batch_y = X_data[offset:offset+BATCH_SIZE], y_data[offset:offset+BATCH_SIZE]\n",
    "        accuracy = sess.run(accuracy_operation, feed_dict={x: batch_x, y: batch_y})\n",
    "        total_accuracy += (accuracy * len(batch_x))\n",
    "    return total_accuracy / num_examples"
   ]
  },
  {
   "cell_type": "code",
   "execution_count": 99,
   "metadata": {},
   "outputs": [],
   "source": [
    "#lenet_e40_b128_l0_001.index"
   ]
  },
  {
   "cell_type": "code",
   "execution_count": 100,
   "metadata": {},
   "outputs": [
    {
     "name": "stdout",
     "output_type": "stream",
     "text": [
      "Test Accuracy = 0.067\n"
     ]
    }
   ],
   "source": [
    "with tf.Session() as sess:\n",
    "    saver.restore(sess, './lenet_e40_b128_l0_001')\n",
    "    test_accuracy = evaluate(normalized_testers, til)\n",
    "    print(\"Test Accuracy = {:.3f}\".format(test_accuracy))\n",
    "    pp = sess.run(logits, feed_dict={x: normalized_testers, y: til})"
   ]
  },
  {
   "cell_type": "markdown",
   "metadata": {},
   "source": [
    "### Output Top 5 Softmax Probabilities For Each Image Found on the Web"
   ]
  },
  {
   "cell_type": "markdown",
   "metadata": {},
   "source": [
    "For each of the new images, print out the model's softmax probabilities to show the **certainty** of the model's predictions (limit the output to the top 5 probabilities for each image). [`tf.nn.top_k`](https://www.tensorflow.org/versions/r0.12/api_docs/python/nn.html#top_k) could prove helpful here. \n",
    "\n",
    "The example below demonstrates how tf.nn.top_k can be used to find the top k predictions for each image.\n",
    "\n",
    "`tf.nn.top_k` will return the values and indices (class ids) of the top k predictions. So if k=3, for each sign, it'll return the 3 largest probabilities (out of a possible 43) and the correspoding class ids.\n",
    "\n",
    "Take this numpy array as an example. The values in the array represent predictions. The array contains softmax probabilities for five candidate images with six possible classes. `tf.nn.top_k` is used to choose the three classes with the highest probability:\n",
    "\n",
    "```\n",
    "# (5, 6) array\n",
    "a = np.array([[ 0.24879643,  0.07032244,  0.12641572,  0.34763842,  0.07893497,\n",
    "         0.12789202],\n",
    "       [ 0.28086119,  0.27569815,  0.08594638,  0.0178669 ,  0.18063401,\n",
    "         0.15899337],\n",
    "       [ 0.26076848,  0.23664738,  0.08020603,  0.07001922,  0.1134371 ,\n",
    "         0.23892179],\n",
    "       [ 0.11943333,  0.29198961,  0.02605103,  0.26234032,  0.1351348 ,\n",
    "         0.16505091],\n",
    "       [ 0.09561176,  0.34396535,  0.0643941 ,  0.16240774,  0.24206137,\n",
    "         0.09155967]])\n",
    "```\n",
    "\n",
    "Running it through `sess.run(tf.nn.top_k(tf.constant(a), k=3))` produces:\n",
    "\n",
    "```\n",
    "TopKV2(values=array([[ 0.34763842,  0.24879643,  0.12789202],\n",
    "       [ 0.28086119,  0.27569815,  0.18063401],\n",
    "       [ 0.26076848,  0.23892179,  0.23664738],\n",
    "       [ 0.29198961,  0.26234032,  0.16505091],\n",
    "       [ 0.34396535,  0.24206137,  0.16240774]]), indices=array([[3, 0, 5],\n",
    "       [0, 1, 4],\n",
    "       [0, 5, 1],\n",
    "       [1, 3, 5],\n",
    "       [1, 4, 3]], dtype=int32))\n",
    "```\n",
    "\n",
    "Looking just at the first row we get `[ 0.34763842,  0.24879643,  0.12789202]`, you can confirm these are the 3 largest probabilities in `a`. You'll also notice `[3, 0, 5]` are the corresponding indices."
   ]
  },
  {
   "cell_type": "code",
   "execution_count": 78,
   "metadata": {
    "collapsed": true
   },
   "outputs": [],
   "source": [
    "### Print out the top five softmax probabilities for the predictions on the German traffic sign images found on the web. \n",
    "### Feel free to use as many code cells as needed."
   ]
  },
  {
   "cell_type": "code",
   "execution_count": 79,
   "metadata": {},
   "outputs": [
    {
     "data": {
      "text/plain": [
       "(15, 43)"
      ]
     },
     "execution_count": 79,
     "metadata": {},
     "output_type": "execute_result"
    }
   ],
   "source": [
    "pp.shape"
   ]
  },
  {
   "cell_type": "code",
   "execution_count": 81,
   "metadata": {},
   "outputs": [],
   "source": [
    "with tf.Session() as sess:\n",
    "    saver.restore(sess, './lenet_e40_b128_l0_001')\n",
    "    top_probs = sess.run(tf.nn.top_k(tf.constant(pp), k=5))"
   ]
  },
  {
   "cell_type": "code",
   "execution_count": 82,
   "metadata": {
    "collapsed": true
   },
   "outputs": [],
   "source": [
    "label_names = pd.read_csv('signnames.csv')"
   ]
  },
  {
   "cell_type": "code",
   "execution_count": 83,
   "metadata": {
    "collapsed": true
   },
   "outputs": [],
   "source": [
    "labels = {}"
   ]
  },
  {
   "cell_type": "code",
   "execution_count": 84,
   "metadata": {
    "collapsed": true
   },
   "outputs": [],
   "source": [
    "for k, v in zip(label_names['ClassId'],label_names['SignName']):\n",
    "    labels[k] = v"
   ]
  },
  {
   "cell_type": "code",
   "execution_count": 85,
   "metadata": {
    "collapsed": true
   },
   "outputs": [],
   "source": [
    "def print_top_k_probabilities(top_probabilities, class_labels, k):\n",
    "    \n",
    "    indexes = top_probabilities.indices\n",
    "    values = top_probabilities.values\n",
    "    \n",
    "    for item_index in range(len(indexes)):\n",
    "        print('Record: ' + str(item_index + 1))\n",
    "        item_list = indexes[item_index]\n",
    "        value_list = values[item_index]\n",
    "        for i in range(k):\n",
    "            print('     Probability #' + str(i + 1) + ': ')\n",
    "            print('     Class Label: ' + class_labels[item_list[i]]) \n",
    "            print('     Probability Value - ' + str(value_list[i]))\n",
    "            print()\n",
    "        print()    \n",
    "        print()\n",
    "        print()"
   ]
  },
  {
   "cell_type": "code",
   "execution_count": 86,
   "metadata": {
    "scrolled": false
   },
   "outputs": [
    {
     "name": "stdout",
     "output_type": "stream",
     "text": [
      "Record: 1\n",
      "     Probability #1: \n",
      "     Class Label: Bumpy road\n",
      "     Probability Value - 23.0894\n",
      "\n",
      "     Probability #2: \n",
      "     Class Label: Bicycles crossing\n",
      "     Probability Value - 21.9126\n",
      "\n",
      "     Probability #3: \n",
      "     Class Label: Children crossing\n",
      "     Probability Value - 10.2296\n",
      "\n",
      "     Probability #4: \n",
      "     Class Label: Road narrows on the right\n",
      "     Probability Value - 1.8022\n",
      "\n",
      "     Probability #5: \n",
      "     Class Label: Wild animals crossing\n",
      "     Probability Value - 1.73122\n",
      "\n",
      "\n",
      "\n",
      "\n",
      "Record: 2\n",
      "     Probability #1: \n",
      "     Class Label: Wild animals crossing\n",
      "     Probability Value - 29.5439\n",
      "\n",
      "     Probability #2: \n",
      "     Class Label: Double curve\n",
      "     Probability Value - 11.558\n",
      "\n",
      "     Probability #3: \n",
      "     Class Label: Speed limit (50km/h)\n",
      "     Probability Value - 10.3034\n",
      "\n",
      "     Probability #4: \n",
      "     Class Label: Speed limit (100km/h)\n",
      "     Probability Value - 7.8972\n",
      "\n",
      "     Probability #5: \n",
      "     Class Label: Speed limit (80km/h)\n",
      "     Probability Value - 7.24259\n",
      "\n",
      "\n",
      "\n",
      "\n",
      "Record: 3\n",
      "     Probability #1: \n",
      "     Class Label: General caution\n",
      "     Probability Value - 73.4368\n",
      "\n",
      "     Probability #2: \n",
      "     Class Label: Traffic signals\n",
      "     Probability Value - 41.6033\n",
      "\n",
      "     Probability #3: \n",
      "     Class Label: Pedestrians\n",
      "     Probability Value - 34.2558\n",
      "\n",
      "     Probability #4: \n",
      "     Class Label: Right-of-way at the next intersection\n",
      "     Probability Value - 6.53648\n",
      "\n",
      "     Probability #5: \n",
      "     Class Label: Go straight or left\n",
      "     Probability Value - 4.95176\n",
      "\n",
      "\n",
      "\n",
      "\n",
      "Record: 4\n",
      "     Probability #1: \n",
      "     Class Label: Speed limit (70km/h)\n",
      "     Probability Value - 42.8396\n",
      "\n",
      "     Probability #2: \n",
      "     Class Label: Speed limit (30km/h)\n",
      "     Probability Value - 29.13\n",
      "\n",
      "     Probability #3: \n",
      "     Class Label: Speed limit (80km/h)\n",
      "     Probability Value - 20.4909\n",
      "\n",
      "     Probability #4: \n",
      "     Class Label: Speed limit (100km/h)\n",
      "     Probability Value - 14.045\n",
      "\n",
      "     Probability #5: \n",
      "     Class Label: Road work\n",
      "     Probability Value - 6.74138\n",
      "\n",
      "\n",
      "\n",
      "\n",
      "Record: 5\n",
      "     Probability #1: \n",
      "     Class Label: Turn right ahead\n",
      "     Probability Value - 34.6852\n",
      "\n",
      "     Probability #2: \n",
      "     Class Label: Keep left\n",
      "     Probability Value - 10.3495\n",
      "\n",
      "     Probability #3: \n",
      "     Class Label: Ahead only\n",
      "     Probability Value - 7.08968\n",
      "\n",
      "     Probability #4: \n",
      "     Class Label: Stop\n",
      "     Probability Value - 6.80098\n",
      "\n",
      "     Probability #5: \n",
      "     Class Label: Speed limit (80km/h)\n",
      "     Probability Value - 4.21006\n",
      "\n",
      "\n",
      "\n",
      "\n",
      "Record: 6\n",
      "     Probability #1: \n",
      "     Class Label: Road work\n",
      "     Probability Value - 17.0394\n",
      "\n",
      "     Probability #2: \n",
      "     Class Label: Slippery road\n",
      "     Probability Value - 8.29557\n",
      "\n",
      "     Probability #3: \n",
      "     Class Label: Bumpy road\n",
      "     Probability Value - 2.1721\n",
      "\n",
      "     Probability #4: \n",
      "     Class Label: Speed limit (60km/h)\n",
      "     Probability Value - 1.10792\n",
      "\n",
      "     Probability #5: \n",
      "     Class Label: Bicycles crossing\n",
      "     Probability Value - 0.650687\n",
      "\n",
      "\n",
      "\n",
      "\n",
      "Record: 7\n",
      "     Probability #1: \n",
      "     Class Label: Stop\n",
      "     Probability Value - 39.7581\n",
      "\n",
      "     Probability #2: \n",
      "     Class Label: Keep right\n",
      "     Probability Value - 21.032\n",
      "\n",
      "     Probability #3: \n",
      "     Class Label: No entry\n",
      "     Probability Value - 9.50246\n",
      "\n",
      "     Probability #4: \n",
      "     Class Label: Turn left ahead\n",
      "     Probability Value - 9.23413\n",
      "\n",
      "     Probability #5: \n",
      "     Class Label: Go straight or right\n",
      "     Probability Value - 4.99087\n",
      "\n",
      "\n",
      "\n",
      "\n",
      "Record: 8\n",
      "     Probability #1: \n",
      "     Class Label: Speed limit (30km/h)\n",
      "     Probability Value - 56.0513\n",
      "\n",
      "     Probability #2: \n",
      "     Class Label: Speed limit (50km/h)\n",
      "     Probability Value - 49.4605\n",
      "\n",
      "     Probability #3: \n",
      "     Class Label: Speed limit (80km/h)\n",
      "     Probability Value - 46.8516\n",
      "\n",
      "     Probability #4: \n",
      "     Class Label: Speed limit (20km/h)\n",
      "     Probability Value - 10.3287\n",
      "\n",
      "     Probability #5: \n",
      "     Class Label: Speed limit (100km/h)\n",
      "     Probability Value - 4.42501\n",
      "\n",
      "\n",
      "\n",
      "\n",
      "Record: 9\n",
      "     Probability #1: \n",
      "     Class Label: Speed limit (80km/h)\n",
      "     Probability Value - 28.8181\n",
      "\n",
      "     Probability #2: \n",
      "     Class Label: Speed limit (50km/h)\n",
      "     Probability Value - 16.0586\n",
      "\n",
      "     Probability #3: \n",
      "     Class Label: Speed limit (100km/h)\n",
      "     Probability Value - 10.8212\n",
      "\n",
      "     Probability #4: \n",
      "     Class Label: Wild animals crossing\n",
      "     Probability Value - 6.51831\n",
      "\n",
      "     Probability #5: \n",
      "     Class Label: Speed limit (60km/h)\n",
      "     Probability Value - 5.74741\n",
      "\n",
      "\n",
      "\n",
      "\n",
      "Record: 10\n",
      "     Probability #1: \n",
      "     Class Label: No entry\n",
      "     Probability Value - 71.5318\n",
      "\n",
      "     Probability #2: \n",
      "     Class Label: Roundabout mandatory\n",
      "     Probability Value - 24.7564\n",
      "\n",
      "     Probability #3: \n",
      "     Class Label: Go straight or left\n",
      "     Probability Value - 24.5729\n",
      "\n",
      "     Probability #4: \n",
      "     Class Label: Turn right ahead\n",
      "     Probability Value - 21.757\n",
      "\n",
      "     Probability #5: \n",
      "     Class Label: No passing\n",
      "     Probability Value - 13.8872\n",
      "\n",
      "\n",
      "\n",
      "\n",
      "Record: 11\n",
      "     Probability #1: \n",
      "     Class Label: Speed limit (100km/h)\n",
      "     Probability Value - 17.0288\n",
      "\n",
      "     Probability #2: \n",
      "     Class Label: Priority road\n",
      "     Probability Value - 14.0594\n",
      "\n",
      "     Probability #3: \n",
      "     Class Label: Roundabout mandatory\n",
      "     Probability Value - 13.7891\n",
      "\n",
      "     Probability #4: \n",
      "     Class Label: Speed limit (30km/h)\n",
      "     Probability Value - 6.89282\n",
      "\n",
      "     Probability #5: \n",
      "     Class Label: Vehicles over 3.5 metric tons prohibited\n",
      "     Probability Value - 0.424459\n",
      "\n",
      "\n",
      "\n",
      "\n",
      "Record: 12\n",
      "     Probability #1: \n",
      "     Class Label: Stop\n",
      "     Probability Value - 30.2855\n",
      "\n",
      "     Probability #2: \n",
      "     Class Label: No entry\n",
      "     Probability Value - 2.64828\n",
      "\n",
      "     Probability #3: \n",
      "     Class Label: Go straight or right\n",
      "     Probability Value - 0.00785317\n",
      "\n",
      "     Probability #4: \n",
      "     Class Label: Keep right\n",
      "     Probability Value - -0.148525\n",
      "\n",
      "     Probability #5: \n",
      "     Class Label: Turn right ahead\n",
      "     Probability Value - -0.185101\n",
      "\n",
      "\n",
      "\n",
      "\n",
      "Record: 13\n",
      "     Probability #1: \n",
      "     Class Label: Road work\n",
      "     Probability Value - 46.2516\n",
      "\n",
      "     Probability #2: \n",
      "     Class Label: Road narrows on the right\n",
      "     Probability Value - 7.67096\n",
      "\n",
      "     Probability #3: \n",
      "     Class Label: Slippery road\n",
      "     Probability Value - 4.65969\n",
      "\n",
      "     Probability #4: \n",
      "     Class Label: Beware of ice/snow\n",
      "     Probability Value - 1.28333\n",
      "\n",
      "     Probability #5: \n",
      "     Class Label: Dangerous curve to the left\n",
      "     Probability Value - -0.0686216\n",
      "\n",
      "\n",
      "\n",
      "\n",
      "Record: 14\n",
      "     Probability #1: \n",
      "     Class Label: Speed limit (70km/h)\n",
      "     Probability Value - 37.3735\n",
      "\n",
      "     Probability #2: \n",
      "     Class Label: Speed limit (30km/h)\n",
      "     Probability Value - 16.8663\n",
      "\n",
      "     Probability #3: \n",
      "     Class Label: Speed limit (100km/h)\n",
      "     Probability Value - 11.0846\n",
      "\n",
      "     Probability #4: \n",
      "     Class Label: Go straight or left\n",
      "     Probability Value - 9.9172\n",
      "\n",
      "     Probability #5: \n",
      "     Class Label: Speed limit (50km/h)\n",
      "     Probability Value - 6.18825\n",
      "\n",
      "\n",
      "\n",
      "\n",
      "Record: 15\n",
      "     Probability #1: \n",
      "     Class Label: Stop\n",
      "     Probability Value - 45.0424\n",
      "\n",
      "     Probability #2: \n",
      "     Class Label: Priority road\n",
      "     Probability Value - 16.9397\n",
      "\n",
      "     Probability #3: \n",
      "     Class Label: Keep right\n",
      "     Probability Value - 15.3655\n",
      "\n",
      "     Probability #4: \n",
      "     Class Label: Go straight or right\n",
      "     Probability Value - 2.58663\n",
      "\n",
      "     Probability #5: \n",
      "     Class Label: No entry\n",
      "     Probability Value - 0.938504\n",
      "\n",
      "\n",
      "\n",
      "\n"
     ]
    }
   ],
   "source": [
    "print_top_k_probabilities(top_probs, labels, 5)"
   ]
  },
  {
   "cell_type": "markdown",
   "metadata": {},
   "source": [
    "### Project Writeup\n",
    "\n",
    "Once you have completed the code implementation, document your results in a project writeup using this [template](https://github.com/udacity/CarND-Traffic-Sign-Classifier-Project/blob/master/writeup_template.md) as a guide. The writeup can be in a markdown or pdf file. "
   ]
  },
  {
   "cell_type": "markdown",
   "metadata": {},
   "source": [
    "> **Note**: Once you have completed all of the code implementations and successfully answered each question above, you may finalize your work by exporting the iPython Notebook as an HTML document. You can do this by using the menu above and navigating to  \\n\",\n",
    "    \"**File -> Download as -> HTML (.html)**. Include the finished document along with this notebook as your submission."
   ]
  },
  {
   "cell_type": "markdown",
   "metadata": {},
   "source": [
    "---\n",
    "\n",
    "## Step 4 (Optional): Visualize the Neural Network's State with Test Images\n",
    "\n",
    " This Section is not required to complete but acts as an additional excersise for understaning the output of a neural network's weights. While neural networks can be a great learning device they are often referred to as a black box. We can understand what the weights of a neural network look like better by plotting their feature maps. After successfully training your neural network you can see what it's feature maps look like by plotting the output of the network's weight layers in response to a test stimuli image. From these plotted feature maps, it's possible to see what characteristics of an image the network finds interesting. For a sign, maybe the inner network feature maps react with high activation to the sign's boundary outline or to the contrast in the sign's painted symbol.\n",
    "\n",
    " Provided for you below is the function code that allows you to get the visualization output of any tensorflow weight layer you want. The inputs to the function should be a stimuli image, one used during training or a new one you provided, and then the tensorflow variable name that represents the layer's state during the training process, for instance if you wanted to see what the [LeNet lab's](https://classroom.udacity.com/nanodegrees/nd013/parts/fbf77062-5703-404e-b60c-95b78b2f3f9e/modules/6df7ae49-c61c-4bb2-a23e-6527e69209ec/lessons/601ae704-1035-4287-8b11-e2c2716217ad/concepts/d4aca031-508f-4e0b-b493-e7b706120f81) feature maps looked like for it's second convolutional layer you could enter conv2 as the tf_activation variable.\n",
    "\n",
    "For an example of what feature map outputs look like, check out NVIDIA's results in their paper [End-to-End Deep Learning for Self-Driving Cars](https://devblogs.nvidia.com/parallelforall/deep-learning-self-driving-cars/) in the section Visualization of internal CNN State. NVIDIA was able to show that their network's inner weights had high activations to road boundary lines by comparing feature maps from an image with a clear path to one without. Try experimenting with a similar test to show that your trained network's weights are looking for interesting features, whether it's looking at differences in feature maps from images with or without a sign, or even what feature maps look like in a trained network vs a completely untrained one on the same sign image.\n",
    "\n",
    "<figure>\n",
    " <img src=\"visualize_cnn.png\" width=\"380\" alt=\"Combined Image\" />\n",
    " <figcaption>\n",
    " <p></p> \n",
    " <p style=\"text-align: center;\"> Your output should look something like this (above)</p> \n",
    " </figcaption>\n",
    "</figure>\n",
    " <p></p> \n"
   ]
  },
  {
   "cell_type": "code",
   "execution_count": 87,
   "metadata": {
    "collapsed": true
   },
   "outputs": [],
   "source": [
    "### Visualize your network's feature maps here.\n",
    "### Feel free to use as many code cells as needed.\n",
    "\n",
    "# image_input: the test image being fed into the network to produce the feature maps\n",
    "# tf_activation: should be a tf variable name used during your training procedure that represents the calculated state of a specific weight layer\n",
    "# activation_min/max: can be used to view the activation contrast in more detail, by default matplot sets min and max to the actual min and max values of the output\n",
    "# plt_num: used to plot out multiple different weight feature map sets on the same block, just extend the plt number for each new feature map entry\n",
    "\n",
    "def outputFeatureMap(image_input, tf_activation, activation_min=-1, activation_max=-1 ,plt_num=1):\n",
    "    # Here make sure to preprocess your image_input in a way your network expects\n",
    "    # with size, normalization, ect if needed\n",
    "    # image_input =\n",
    "    # Note: x should be the same name as your network's tensorflow data placeholder variable\n",
    "    # If you get an error tf_activation is not defined it may be having trouble accessing the variable from inside a function\n",
    "    activation = tf_activation.eval(session=sess,feed_dict={x : image_input})\n",
    "    featuremaps = activation.shape[3]\n",
    "    plt.figure(plt_num, figsize=(15,15))\n",
    "    for featuremap in range(featuremaps):\n",
    "        plt.subplot(6,8, featuremap+1) # sets the number of feature maps to show on each row and column\n",
    "        plt.title('FeatureMap ' + str(featuremap)) # displays the feature map number\n",
    "        if activation_min != -1 & activation_max != -1:\n",
    "            plt.imshow(activation[0,:,:, featuremap], interpolation=\"nearest\", vmin =activation_min, vmax=activation_max, cmap=\"gray\")\n",
    "        elif activation_max != -1:\n",
    "            plt.imshow(activation[0,:,:, featuremap], interpolation=\"nearest\", vmax=activation_max, cmap=\"gray\")\n",
    "        elif activation_min !=-1:\n",
    "            plt.imshow(activation[0,:,:, featuremap], interpolation=\"nearest\", vmin=activation_min, cmap=\"gray\")\n",
    "        else:\n",
    "            plt.imshow(activation[0,:,:, featuremap], interpolation=\"nearest\", cmap=\"gray\")"
   ]
  }
 ],
 "metadata": {
  "anaconda-cloud": {},
  "kernelspec": {
   "display_name": "Python 3",
   "language": "python",
   "name": "python3"
  },
  "language_info": {
   "codemirror_mode": {
    "name": "ipython",
    "version": 3
   },
   "file_extension": ".py",
   "mimetype": "text/x-python",
   "name": "python",
   "nbconvert_exporter": "python",
   "pygments_lexer": "ipython3",
   "version": "3.5.3"
  },
  "widgets": {
   "state": {},
   "version": "1.1.2"
  }
 },
 "nbformat": 4,
 "nbformat_minor": 1
}
